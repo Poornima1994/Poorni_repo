{
  "nbformat": 4,
  "nbformat_minor": 0,
  "metadata": {
    "colab": {
      "name": "Moview Review Sentiment Analysis Clasiification.ipynb",
      "provenance": [],
      "collapsed_sections": [],
      "authorship_tag": "ABX9TyPvmRc/1DJ4142aw5sO4kqK",
      "include_colab_link": true
    },
    "kernelspec": {
      "name": "python3",
      "display_name": "Python 3"
    },
    "language_info": {
      "name": "python"
    }
  },
  "cells": [
    {
      "cell_type": "markdown",
      "metadata": {
        "id": "view-in-github",
        "colab_type": "text"
      },
      "source": [
        "<a href=\"https://colab.research.google.com/github/Poornima1994/Poorni_repo/blob/main/Moview_Review_Sentiment_Analysis_Clasiification.ipynb\" target=\"_parent\"><img src=\"https://colab.research.google.com/assets/colab-badge.svg\" alt=\"Open In Colab\"/></a>"
      ]
    },
    {
      "cell_type": "code",
      "metadata": {
        "id": "ki0DiOn0-vlY"
      },
      "source": [
        "#importing libraries\n",
        "import matplotlib.pyplot as plt\n",
        "import numpy as np\n",
        "import pandas as pd\n",
        "import tensorflow as tf\n",
        "import re"
      ],
      "execution_count": 1,
      "outputs": []
    },
    {
      "cell_type": "code",
      "metadata": {
        "colab": {
          "base_uri": "https://localhost:8080/"
        },
        "id": "lp32_xO2-6KT",
        "outputId": "c0f7669a-9930-4e2c-e997-c37ad89a6eec"
      },
      "source": [
        "import pandas as pd\n",
        "import nltk\n",
        "nltk.download('stopwords')\n",
        "nltk.download('wordnet')\n",
        "from nltk.tokenize import RegexpTokenizer\n",
        "from nltk.corpus import stopwords\n",
        "from nltk.stem import WordNetLemmatizer\n",
        "from sklearn.model_selection import train_test_split\n",
        "from sklearn.feature_extraction.text import TfidfVectorizer\n",
        "from sklearn.linear_model import LogisticRegression\n",
        "from sklearn.metrics import precision_score,confusion_matrix,recall_score,f1_score"
      ],
      "execution_count": 18,
      "outputs": [
        {
          "output_type": "stream",
          "text": [
            "[nltk_data] Downloading package stopwords to /root/nltk_data...\n",
            "[nltk_data]   Unzipping corpora/stopwords.zip.\n",
            "[nltk_data] Downloading package wordnet to /root/nltk_data...\n",
            "[nltk_data]   Unzipping corpora/wordnet.zip.\n"
          ],
          "name": "stdout"
        }
      ]
    },
    {
      "cell_type": "code",
      "metadata": {
        "id": "5PUbP1Zd-6M0"
      },
      "source": [
        "import warnings\n",
        "warnings.filterwarnings('ignore')"
      ],
      "execution_count": 19,
      "outputs": []
    },
    {
      "cell_type": "code",
      "metadata": {
        "id": "8cMlo9Wc-6Pt"
      },
      "source": [
        "import pandas as pd\n",
        "header_list = [\"Review\", \"Sentiment\"]\n",
        "imdb_df = pd.read_csv('/content/IMDB Dataset.csv')\n"
      ],
      "execution_count": 61,
      "outputs": []
    },
    {
      "cell_type": "code",
      "metadata": {
        "id": "xS2U9nZ3Jmly"
      },
      "source": [
        "def remove_html_tags(text):\n",
        "    cleaner = re.compile('<.*?>')\n",
        "    cleantext = re.sub(cleaner, ' ', text)\n",
        "    return cleantext\n",
        "\n",
        "def remove_between_square_brackets(text):\n",
        "    return re.sub('\\[[^]]*\\]', '', text)\n",
        "\n",
        "def remove_special_characters(text, remove_digits=True):\n",
        "    pattern=r'[^a-zA-z0-9\\s]'\n",
        "    text=re.sub(pattern,'',text)\n",
        "    text=re.sub(\"\\s\\s+\" , \" \", text)\n",
        "    text=text.lower()\n",
        "    return text\n",
        "\n",
        "def preprocess_review(text):\n",
        "    clean_text = remove_html_tags(text);\n",
        "    clean_text = remove_between_square_brackets(clean_text);\n",
        "    clean_text = remove_special_characters(clean_text)\n",
        "    return clean_text;"
      ],
      "execution_count": 94,
      "outputs": []
    },
    {
      "cell_type": "code",
      "metadata": {
        "colab": {
          "base_uri": "https://localhost:8080/",
          "height": 103
        },
        "id": "sAm_SIzDtbtc",
        "outputId": "fafc780c-b68b-4bab-8bff-7e0f5c47fae9"
      },
      "source": [
        "imdb_df.iloc[666]['review']"
      ],
      "execution_count": 95,
      "outputs": [
        {
          "output_type": "execute_result",
          "data": {
            "application/vnd.google.colaboratory.intrinsic+json": {
              "type": "string"
            },
            "text/plain": [
              "'This was a fine example of how an interesting film can be made without using big stars and big effects. Just tell a true story about the struggles of two African American women over a turbulent century.<br /><br />This movie challenges us all to look at our own personal prejudices and see that people are people, not white, black, etc.<br /><br />Good movie with a good message.'"
            ]
          },
          "metadata": {
            "tags": []
          },
          "execution_count": 95
        }
      ]
    },
    {
      "cell_type": "code",
      "metadata": {
        "colab": {
          "base_uri": "https://localhost:8080/",
          "height": 103
        },
        "id": "xAFq5iXktr6T",
        "outputId": "4ac0bf7b-6da5-4444-f161-c9cc724af6a1"
      },
      "source": [
        "preprocess_review(imdb_df.iloc[666]['review'])"
      ],
      "execution_count": 97,
      "outputs": [
        {
          "output_type": "execute_result",
          "data": {
            "application/vnd.google.colaboratory.intrinsic+json": {
              "type": "string"
            },
            "text/plain": [
              "'this was a fine example of how an interesting film can be made without using big stars and big effects just tell a true story about the struggles of two african american women over a turbulent century this movie challenges us all to look at our own personal prejudices and see that people are people not white black etc good movie with a good message'"
            ]
          },
          "metadata": {
            "tags": []
          },
          "execution_count": 97
        }
      ]
    },
    {
      "cell_type": "code",
      "metadata": {
        "id": "3Gft1pFHttHZ"
      },
      "source": [
        "imdb_df['review'] = imdb_df[\"review\"].apply(lambda x: preprocess_review(x))"
      ],
      "execution_count": 98,
      "outputs": []
    },
    {
      "cell_type": "code",
      "metadata": {
        "id": "zfMEmGHOtuKy"
      },
      "source": [
        "imdb_df['new_sentiment'] = imdb_df['sentiment'] == \"positive\"\n",
        "imdb_df[\"new_sentiment\"] = imdb_df[\"new_sentiment\"].astype(\"uint8\")\n",
        "imdb_df = imdb_df.drop(\"sentiment\", axis=1)\n",
        "imdb_df = imdb_df.rename(columns={\"new_sentiment\": \"sentiment\"})"
      ],
      "execution_count": 99,
      "outputs": []
    },
    {
      "cell_type": "code",
      "metadata": {
        "colab": {
          "base_uri": "https://localhost:8080/",
          "height": 204
        },
        "id": "5Q1A9KZtt52P",
        "outputId": "67f22337-72ea-4dd1-ffc9-a1f70f67f47c"
      },
      "source": [
        "imdb_df.head()"
      ],
      "execution_count": 100,
      "outputs": [
        {
          "output_type": "execute_result",
          "data": {
            "text/html": [
              "<div>\n",
              "<style scoped>\n",
              "    .dataframe tbody tr th:only-of-type {\n",
              "        vertical-align: middle;\n",
              "    }\n",
              "\n",
              "    .dataframe tbody tr th {\n",
              "        vertical-align: top;\n",
              "    }\n",
              "\n",
              "    .dataframe thead th {\n",
              "        text-align: right;\n",
              "    }\n",
              "</style>\n",
              "<table border=\"1\" class=\"dataframe\">\n",
              "  <thead>\n",
              "    <tr style=\"text-align: right;\">\n",
              "      <th></th>\n",
              "      <th>review</th>\n",
              "      <th>sentiment</th>\n",
              "    </tr>\n",
              "  </thead>\n",
              "  <tbody>\n",
              "    <tr>\n",
              "      <th>0</th>\n",
              "      <td>one of the other reviewers has mentioned that ...</td>\n",
              "      <td>1</td>\n",
              "    </tr>\n",
              "    <tr>\n",
              "      <th>1</th>\n",
              "      <td>a wonderful little production the filming tech...</td>\n",
              "      <td>1</td>\n",
              "    </tr>\n",
              "    <tr>\n",
              "      <th>2</th>\n",
              "      <td>i thought this was a wonderful way to spend ti...</td>\n",
              "      <td>1</td>\n",
              "    </tr>\n",
              "    <tr>\n",
              "      <th>3</th>\n",
              "      <td>basically theres a family where a little boy j...</td>\n",
              "      <td>0</td>\n",
              "    </tr>\n",
              "    <tr>\n",
              "      <th>4</th>\n",
              "      <td>petter matteis love in the time of money is a ...</td>\n",
              "      <td>1</td>\n",
              "    </tr>\n",
              "  </tbody>\n",
              "</table>\n",
              "</div>"
            ],
            "text/plain": [
              "                                              review  sentiment\n",
              "0  one of the other reviewers has mentioned that ...          1\n",
              "1  a wonderful little production the filming tech...          1\n",
              "2  i thought this was a wonderful way to spend ti...          1\n",
              "3  basically theres a family where a little boy j...          0\n",
              "4  petter matteis love in the time of money is a ...          1"
            ]
          },
          "metadata": {
            "tags": []
          },
          "execution_count": 100
        }
      ]
    },
    {
      "cell_type": "markdown",
      "metadata": {
        "id": "RU1fo7MGzZFq"
      },
      "source": [
        "Splitting data"
      ]
    },
    {
      "cell_type": "code",
      "metadata": {
        "id": "cylBU-E0t9u3"
      },
      "source": [
        "\n",
        "X = imdb_df[:5000]['review']\n",
        "y = imdb_df[:5000]['sentiment']"
      ],
      "execution_count": 102,
      "outputs": []
    },
    {
      "cell_type": "code",
      "metadata": {
        "id": "aRmHo8CZuFNX"
      },
      "source": [
        "from sklearn.model_selection import train_test_split\n",
        "X_train_val, X_test, y_train_val, y_test = train_test_split(X, y, random_state=42, test_size=0.1)\n",
        "X_train, X_val, y_train, y_val = train_test_split(X_train_val, y_train_val, random_state=42, test_size=0.1)"
      ],
      "execution_count": 103,
      "outputs": []
    },
    {
      "cell_type": "code",
      "metadata": {
        "colab": {
          "base_uri": "https://localhost:8080/"
        },
        "id": "1659M5fquFKq",
        "outputId": "f2a17865-5257-46eb-a550-6cf3f3cc10bc"
      },
      "source": [
        "X_train.shape, y_train.shape, X_val.shape, y_val.shape, X_test.shape, y_test.shape"
      ],
      "execution_count": 104,
      "outputs": [
        {
          "output_type": "execute_result",
          "data": {
            "text/plain": [
              "((4050,), (4050,), (450,), (450,), (500,), (500,))"
            ]
          },
          "metadata": {
            "tags": []
          },
          "execution_count": 104
        }
      ]
    },
    {
      "cell_type": "code",
      "metadata": {
        "id": "n-Z4o9_SuFH6"
      },
      "source": [
        "train_dataset = tf.data.Dataset.from_tensor_slices((X_train, y_train))\n",
        "val_dataset = tf.data.Dataset.from_tensor_slices((X_val, y_val))\n",
        "test_dataset = tf.data.Dataset.from_tensor_slices((X_test, y_test))"
      ],
      "execution_count": 105,
      "outputs": []
    },
    {
      "cell_type": "code",
      "metadata": {
        "colab": {
          "base_uri": "https://localhost:8080/"
        },
        "id": "SfayQccGuFFC",
        "outputId": "d9593ac3-a018-4c5a-b7b1-b859e51c28a5"
      },
      "source": [
        "for example, label in train_dataset.take(1):\n",
        "    print('text: ', example.numpy())\n",
        "    print('label: ', label.numpy())"
      ],
      "execution_count": 106,
      "outputs": [
        {
          "output_type": "stream",
          "text": [
            "text:  b'star rating saturday night friday night friday morning sunday night monday morning one time heroin addict frankie machine frank sinatra gets out of prison to his bumbling jailbird partner sparrow arnold stang needy cripple of a wife zosch eleanor parker and bit on the side molly kim novak hes trying to make it big as a drummer in a band but until his big break comes along hes stuck doing the only other thing he was any good at other than being a junkie dealing cards in high stakes games and try as he might even prison hasnt cured him of his addiction to the devils drug causing him to lie to and deceive all those around him and driving him to desperate measures to feed his habit his yearning to come off it is his only motivation towards a happy ending when people think of frank sinatra they generally think of classic high pitched songs like under my skin new york new york and it had to be you but lest anyone forget he was actually a renowned actor too and if his performance in the acclaimed from here to eternity wasnt enough he will also be remembered for this cutting edge drama dealing with what was at the time the ultra taboo subject of drug abuse the film is often listed as one of the first to feature graphic heroin use probably the reason behind the 15 certificate in a time when it was a subject that was still very much pushed underground in his portrayal of the main protagonist sinatra is fine perfectly conveying the despair desperation and sincerity of a man losing every second chance that is being given to him his cold turkey scene is much more intense than ewan mcgregors in trainspotting the first costar to make an impression is parker as machines demanding needy cripple of a wife using her husbands guilt and sense of duty to all the effect she can novak as his secret lover still manages some strong moments but is less of a star than parker stang does his usual comic relief thing as the bumbling sidekick who trails the leading man around with his waspy new york accent director otto preminger does allow the pace to drag a bit sometimes but this is still a powerfully absorbing film all the way with plenty of unexpected twists and turns and which should be admired for being one of the first films to bring such a grim subject so powerfully to life '\n",
            "label:  1\n"
          ],
          "name": "stdout"
        }
      ]
    },
    {
      "cell_type": "code",
      "metadata": {
        "id": "iEpb78iBuFCB"
      },
      "source": [
        "BATCH_SIZE = 32"
      ],
      "execution_count": 107,
      "outputs": []
    },
    {
      "cell_type": "code",
      "metadata": {
        "id": "RLq9svCzuEw3"
      },
      "source": [
        "train_dataset = train_dataset.shuffle(5000).batch(BATCH_SIZE).prefetch(tf.data.AUTOTUNE)\n",
        "val_dataset = val_dataset.batch(500).prefetch(tf.data.AUTOTUNE)\n",
        "test_dataset = test_dataset.batch(500).prefetch(tf.data.AUTOTUNE)\n"
      ],
      "execution_count": 108,
      "outputs": []
    },
    {
      "cell_type": "code",
      "metadata": {
        "colab": {
          "base_uri": "https://localhost:8080/"
        },
        "id": "4Jn1Zw6HvUKy",
        "outputId": "efbac511-9836-4b15-9e80-953f37fc81c7"
      },
      "source": [
        "for example, label in train_dataset.take(1):\n",
        "    print('texts: ', example.numpy()[:3])\n",
        "    print()\n",
        "    print('labels: ', label.numpy()[:3])"
      ],
      "execution_count": 109,
      "outputs": [
        {
          "output_type": "stream",
          "text": [
            "texts:  [b'the only good part about this film is the beautiful scenery this movie was long and boring the minister should have retired from the pulpit the time his son paul strayed from the teachings he proclaimed how many times can his boys take the lords name in vain in this film being from a presbyterian background it doesnt fit i wished paul was swept down the river without a boat at the very beginning to spare us the silly smirkish selfish story of paul brad pitt so norm becomes a teacher and paul becomes a compulsive gambler who norm wants to rescue but doesntso what its very uninteresting we see the prejudiced whites being stood up to by paul because of his native american girl that was the only part that had some interest and maybe could have been developed into a real wild western what we only see is a sleepy town where the two ministers sons have nothing to do but 1 norm chase a lame girlfriend and deal with her family and 2paul make up dumb stories at the newspaper shop while scratching his head and take a lot of swigs and tie a lot of flies id rather watch a show about fishing that that film againwhich will be never'\n",
            " b'yes indeed it could have been a good movie a love biangle sorry for the poetical license but is not a triangle an interesting story unfortunately badly told the image is sometimes weird sometimes ok the picture looks crowded and narrowsighted the sound needs more attention it usually does in romanian movies the light and color filters are sometimes badly chosen the soundtrack is short and is not helping the action about the acting sorry but the best actress is the landlady the others are acting immaturely and cannot convince the viewer the acting is poetical when it should be realistic and realistic when it should be poetical its a picture for adults told by the children bother only if extremely curious'\n",
            " b'im sure deep in the recesses of jack blacks mind the character of nacho libre is absolutely hilarious but no it isnt you can tell ol jacks having a whale of a time hammin it up playing a smarmy slimy mexican friar with dreams of becoming a wrestler but this movie is a total misfire in just about every single department i just sat there through most of the movie thinking is this supposed to be funny and this is the guy from tenacious d right the truth is this film has nothing to offer at all its a lousy script with crappy characters and really naff acting and direction youll watch endless moments where you think something funny is surely about to happen but it just doesnt i was bored stupid about 10 minutes in but though it would surely pick up it didnt 90 minutes later id barely managed to stave off an aneurism it was that painful its like remember years ago when youd see anything with your fave actor in it even some of their really early pap from before they were famous and youd be really embarrassed that said actor was actually in such a load of plop yeah its like that ive enjoyed some of jack blacks earlier movies like shallow hall and im really looking forward to seeing pick of destiny but come on man if you do this to us again jack im gonna have to come round there and hammer your kneecaps or something at the least give you a serious talking to i know its a clich but this is one of the worst movies ive ever seen and for so many reasons']\n",
            "\n",
            "labels:  [0 0 0]\n"
          ],
          "name": "stdout"
        }
      ]
    },
    {
      "cell_type": "code",
      "metadata": {
        "id": "_N6nHsSQxXWW"
      },
      "source": [
        "VOCAB_SIZE=2000\n",
        "encoder = tf.keras.layers.experimental.preprocessing.TextVectorization(\n",
        "    max_tokens=VOCAB_SIZE)\n",
        "encoder.adapt(train_dataset.map(lambda text, label: text))"
      ],
      "execution_count": 110,
      "outputs": []
    },
    {
      "cell_type": "code",
      "metadata": {
        "colab": {
          "base_uri": "https://localhost:8080/"
        },
        "id": "A01iMWmSxXQ3",
        "outputId": "234b95dc-7adc-48ba-927a-f1fe04746771"
      },
      "source": [
        "vocab = np.array(encoder.get_vocabulary())\n",
        "vocab[:50]"
      ],
      "execution_count": 111,
      "outputs": [
        {
          "output_type": "execute_result",
          "data": {
            "text/plain": [
              "array(['', '[UNK]', 'the', 'a', 'and', 'of', 'to', 'is', 'in', 'it',\n",
              "       'this', 'i', 'that', 'was', 'as', 'with', 'movie', 'for', 'but',\n",
              "       'film', 'on', 'you', 'not', 'are', 'have', 'his', 'be', 'one',\n",
              "       'he', 'its', 'at', 'all', 'by', 'an', 'from', 'they', 'so', 'who',\n",
              "       'like', 'just', 'about', 'or', 'if', 'her', 'out', 'has', 'some',\n",
              "       'what', 'there', 'good'], dtype='<U14')"
            ]
          },
          "metadata": {
            "tags": []
          },
          "execution_count": 111
        }
      ]
    },
    {
      "cell_type": "code",
      "metadata": {
        "colab": {
          "base_uri": "https://localhost:8080/"
        },
        "id": "Wfi0iBQ8xXLP",
        "outputId": "cd42478e-e5cc-406c-bc60-cd8f621552ac"
      },
      "source": [
        "encoded_example = encoder(example)[:3].numpy()\n",
        "encoded_example"
      ],
      "execution_count": 112,
      "outputs": [
        {
          "output_type": "execute_result",
          "data": {
            "text/plain": [
              "array([[  2,  68,  49, ...,   0,   0,   0],\n",
              "       [428, 754,   9, ...,   0,   0,   0],\n",
              "       [142, 253, 778, ...,   0,   0,   0]])"
            ]
          },
          "metadata": {
            "tags": []
          },
          "execution_count": 112
        }
      ]
    },
    {
      "cell_type": "code",
      "metadata": {
        "colab": {
          "base_uri": "https://localhost:8080/"
        },
        "id": "eRI1liPCxXDM",
        "outputId": "d3e2ca89-a96f-48ba-c9cb-b2e456aa55e6"
      },
      "source": [
        "for n in range(1):\n",
        "    print(\"Original: \", example[n].numpy())\n",
        "    print(\"\\nRound-trip: \", \" \".join(vocab[encoded_example[n]]))\n",
        "    print()"
      ],
      "execution_count": 113,
      "outputs": [
        {
          "output_type": "stream",
          "text": [
            "Original:  b'the only good part about this film is the beautiful scenery this movie was long and boring the minister should have retired from the pulpit the time his son paul strayed from the teachings he proclaimed how many times can his boys take the lords name in vain in this film being from a presbyterian background it doesnt fit i wished paul was swept down the river without a boat at the very beginning to spare us the silly smirkish selfish story of paul brad pitt so norm becomes a teacher and paul becomes a compulsive gambler who norm wants to rescue but doesntso what its very uninteresting we see the prejudiced whites being stood up to by paul because of his native american girl that was the only part that had some interest and maybe could have been developed into a real wild western what we only see is a sleepy town where the two ministers sons have nothing to do but 1 norm chase a lame girlfriend and deal with her family and 2paul make up dumb stories at the newspaper shop while scratching his head and take a lot of swigs and tie a lot of flies id rather watch a show about fishing that that film againwhich will be never'\n",
            "\n",
            "Round-trip:  the only good part about this film is the beautiful scenery this movie was long and boring the [UNK] should have [UNK] from the [UNK] the time his son paul [UNK] from the [UNK] he [UNK] how many times can his boys take the [UNK] name in [UNK] in this film being from a [UNK] background it doesnt fit i [UNK] paul was [UNK] down the river without a boat at the very beginning to [UNK] us the silly [UNK] [UNK] story of paul [UNK] [UNK] so [UNK] becomes a teacher and paul becomes a [UNK] [UNK] who [UNK] wants to [UNK] but [UNK] what its very [UNK] we see the [UNK] [UNK] being [UNK] up to by paul because of his [UNK] american girl that was the only part that had some interest and maybe could have been developed into a real wild western what we only see is a [UNK] town where the two [UNK] [UNK] have nothing to do but 1 [UNK] chase a lame girlfriend and deal with her family and [UNK] make up dumb stories at the [UNK] [UNK] while [UNK] his head and take a lot of [UNK] and [UNK] a lot of [UNK] id rather watch a show about [UNK] that that film [UNK] will be never                                                                                                                                                                                                                                                                                                                                                                                                                                                                                                                                                                                                                                                         \n",
            "\n"
          ],
          "name": "stdout"
        }
      ]
    },
    {
      "cell_type": "markdown",
      "metadata": {
        "id": "Fg0zyMg10WZc"
      },
      "source": [
        "Model creation"
      ]
    },
    {
      "cell_type": "code",
      "metadata": {
        "id": "KHq8-8LfxW9_"
      },
      "source": [
        "model = tf.keras.Sequential([\n",
        "    encoder,\n",
        "    tf.keras.layers.Embedding(\n",
        "        input_dim=len(encoder.get_vocabulary()),\n",
        "        output_dim=128,\n",
        "        # Use masking to handle the variable sequence lengths\n",
        "        mask_zero=True),\n",
        "    tf.keras.layers.Bidirectional(tf.keras.layers.LSTM(128, return_sequences=True)),\n",
        "    tf.keras.layers.Bidirectional(tf.keras.layers.LSTM(64)),\n",
        "    tf.keras.layers.Dense(256, activation='relu'),\n",
        "    tf.keras.layers.Dense(64, activation='relu'),\n",
        "    tf.keras.layers.Dropout(0.4),\n",
        "    tf.keras.layers.Dense(1, activation='sigmoid')\n",
        "])"
      ],
      "execution_count": 114,
      "outputs": []
    },
    {
      "cell_type": "code",
      "metadata": {
        "id": "H6iV8ctIyN6o"
      },
      "source": [
        "model.compile(loss=tf.keras.losses.BinaryCrossentropy(),\n",
        "              optimizer=tf.keras.optimizers.Adam(1e-4),\n",
        "              metrics=['accuracy'])"
      ],
      "execution_count": 115,
      "outputs": []
    },
    {
      "cell_type": "code",
      "metadata": {
        "id": "CrvZXJARxW42"
      },
      "source": [
        "checkpoint_filepath = '/tmp/checkpoint'\n",
        "model_checkpoint_callback = tf.keras.callbacks.ModelCheckpoint(\n",
        "    filepath=checkpoint_filepath,\n",
        "    save_weights_only=True,\n",
        "    monitor='val_accuracy',\n",
        "    mode='max',\n",
        "    save_best_only=True)\n",
        "\n",
        "early_stop = tf.keras.callbacks.EarlyStopping(\n",
        "    monitor='val_loss',\n",
        "    patience=3,\n",
        "    restore_best_weights=True)"
      ],
      "execution_count": 116,
      "outputs": []
    },
    {
      "cell_type": "code",
      "metadata": {
        "colab": {
          "base_uri": "https://localhost:8080/"
        },
        "id": "8PEDpyK6xWzA",
        "outputId": "ba14cc11-b327-44d8-f983-090463aaf979"
      },
      "source": [
        "history = model.fit(train_dataset, epochs=5,\n",
        "                    validation_data=val_dataset, callbacks=[early_stop, model_checkpoint_callback])"
      ],
      "execution_count": 118,
      "outputs": [
        {
          "output_type": "stream",
          "text": [
            "Epoch 1/5\n",
            "127/127 [==============================] - 433s 3s/step - loss: 0.6926 - accuracy: 0.5289 - val_loss: 0.6910 - val_accuracy: 0.5267\n",
            "Epoch 2/5\n",
            "127/127 [==============================] - 428s 3s/step - loss: 0.6069 - accuracy: 0.6854 - val_loss: 0.4302 - val_accuracy: 0.8000\n",
            "Epoch 3/5\n",
            "127/127 [==============================] - 427s 3s/step - loss: 0.3613 - accuracy: 0.8477 - val_loss: 0.3826 - val_accuracy: 0.8444\n",
            "Epoch 4/5\n",
            "127/127 [==============================] - 433s 3s/step - loss: 0.2919 - accuracy: 0.8827 - val_loss: 0.3570 - val_accuracy: 0.8533\n",
            "Epoch 5/5\n",
            "127/127 [==============================] - 435s 3s/step - loss: 0.2453 - accuracy: 0.9094 - val_loss: 0.3337 - val_accuracy: 0.8489\n"
          ],
          "name": "stdout"
        }
      ]
    },
    {
      "cell_type": "markdown",
      "metadata": {
        "id": "ptM2F0CO8uqj"
      },
      "source": [
        "Predicting sample reviews"
      ]
    },
    {
      "cell_type": "code",
      "metadata": {
        "colab": {
          "base_uri": "https://localhost:8080/"
        },
        "id": "FDmXIbk-xWuH",
        "outputId": "be15d0e0-7e46-4dcd-f528-35c0d93fea7b"
      },
      "source": [
        "examples_pos = [\n",
        "  \"The movie was great, i would recommend this movie to my family, the storyline is amazing\",\n",
        " ]\n",
        "\n",
        "result=model.predict(examples_pos)\n",
        "print(\"positive\" if (result>0.5) else \"negative\" )"
      ],
      "execution_count": 119,
      "outputs": [
        {
          "output_type": "stream",
          "text": [
            "positive\n"
          ],
          "name": "stdout"
        }
      ]
    },
    {
      "cell_type": "code",
      "metadata": {
        "colab": {
          "base_uri": "https://localhost:8080/"
        },
        "id": "j7g-83Bt044F",
        "outputId": "3acaaffc-477c-4fe2-e2b0-e9da57d29629"
      },
      "source": [
        "examples_neg = [\n",
        "  \"The movie was terrible, dont watch this movie, dont waste your time watching these movies!\"\n",
        "]\n",
        "\n",
        "result1=model.predict(examples_neg)\n",
        "print(\"positive\" if (result1>0.5) else \"negative\" )"
      ],
      "execution_count": 120,
      "outputs": [
        {
          "output_type": "stream",
          "text": [
            "negative\n"
          ],
          "name": "stdout"
        }
      ]
    },
    {
      "cell_type": "code",
      "metadata": {
        "id": "lto0tjYS9O3M"
      },
      "source": [
        ""
      ],
      "execution_count": null,
      "outputs": []
    }
  ]
}